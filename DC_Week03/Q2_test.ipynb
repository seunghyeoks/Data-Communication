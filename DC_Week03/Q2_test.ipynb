{
 "cells": [
  {
   "cell_type": "code",
   "execution_count": 1,
   "id": "initial_id",
   "metadata": {
    "collapsed": true,
    "ExecuteTime": {
     "end_time": "2024-03-23T06:38:53.815691Z",
     "start_time": "2024-03-23T06:38:53.807236Z"
    }
   },
   "outputs": [],
   "source": [
    "import LA03"
   ]
  },
  {
   "cell_type": "code",
   "outputs": [],
   "source": [
    "solved_text = LA03.morse2text(LA03.file2morse('202002473.wav'))"
   ],
   "metadata": {
    "collapsed": false,
    "ExecuteTime": {
     "end_time": "2024-03-23T06:38:58.596390Z",
     "start_time": "2024-03-23T06:38:53.817109Z"
    }
   },
   "id": "788982d716298cf9",
   "execution_count": 2
  },
  {
   "cell_type": "code",
   "outputs": [
    {
     "name": "stdout",
     "output_type": "stream",
     "text": [
      "WRITING 1742 PHOTO WRITER 6226 202002473 8125 6467\n"
     ]
    }
   ],
   "source": [
    "replaced = solved_text.replace(\"NUMBER\", \"202002473\")\n",
    "print(replaced)"
   ],
   "metadata": {
    "collapsed": false,
    "ExecuteTime": {
     "end_time": "2024-03-23T06:38:58.599760Z",
     "start_time": "2024-03-23T06:38:58.597141Z"
    }
   },
   "id": "b83b8bf994fa7fc8",
   "execution_count": 3
  },
  {
   "cell_type": "code",
   "outputs": [
    {
     "name": "stdout",
     "output_type": "stream",
     "text": [
      ".-- .-. .. - .. -. --. $ .---- --... ....- ..--- $ .--. .... --- - --- $ .-- .-. .. - . .-. $ -.... ..--- ..--- -.... $ ..--- ----- ..--- ----- ----- ..--- ....- --... ...-- $ ---.. .---- ..--- ..... $ -.... ....- -.... --... \n"
     ]
    }
   ],
   "source": [
    "r_morse_with_tempChar = LA03.text2morse(replaced)\n",
    "print(r_morse_with_tempChar)"
   ],
   "metadata": {
    "collapsed": false,
    "ExecuteTime": {
     "end_time": "2024-03-23T06:38:58.603402Z",
     "start_time": "2024-03-23T06:38:58.601077Z"
    }
   },
   "id": "4d16e328090d126a",
   "execution_count": 4
  },
  {
   "cell_type": "code",
   "outputs": [],
   "source": [
    "# generate wav file\n",
    "LA03.audio2file(LA03.morse2audio(r_morse_with_tempChar), '202002473_replaced.wav')"
   ],
   "metadata": {
    "collapsed": false,
    "ExecuteTime": {
     "end_time": "2024-03-23T06:39:21.706807Z",
     "start_time": "2024-03-23T06:38:58.604220Z"
    }
   },
   "id": "a1a4969188a892d2",
   "execution_count": 5
  },
  {
   "cell_type": "code",
   "outputs": [
    {
     "data": {
      "text/plain": "True"
     },
     "execution_count": 6,
     "metadata": {},
     "output_type": "execute_result"
    }
   ],
   "source": [
    "# compare to replaced text\n",
    "replaced == LA03.morse2text(LA03.file2morse('202002473_replaced.wav'))"
   ],
   "metadata": {
    "collapsed": false,
    "ExecuteTime": {
     "end_time": "2024-03-23T06:39:27.865348Z",
     "start_time": "2024-03-23T06:39:21.707612Z"
    }
   },
   "id": "9fa274aeec1aed1b",
   "execution_count": 6
  }
 ],
 "metadata": {
  "kernelspec": {
   "display_name": "Python 3",
   "language": "python",
   "name": "python3"
  },
  "language_info": {
   "codemirror_mode": {
    "name": "ipython",
    "version": 2
   },
   "file_extension": ".py",
   "mimetype": "text/x-python",
   "name": "python",
   "nbconvert_exporter": "python",
   "pygments_lexer": "ipython2",
   "version": "2.7.6"
  }
 },
 "nbformat": 4,
 "nbformat_minor": 5
}

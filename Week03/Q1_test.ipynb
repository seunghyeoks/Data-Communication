{
 "cells": [
  {
   "cell_type": "code",
   "outputs": [],
   "source": [
    "import LA03"
   ],
   "metadata": {
    "collapsed": false,
    "ExecuteTime": {
     "end_time": "2024-03-21T09:32:02.802233Z",
     "start_time": "2024-03-21T09:32:02.762454Z"
    }
   },
   "id": "49488129eebcc6b4",
   "execution_count": 1
  },
  {
   "cell_type": "code",
   "outputs": [
    {
     "name": "stdout",
     "output_type": "stream",
     "text": [
      ".-- .-. .. - .. -. --. $ .---- --... ....- ..--- $ .--. .... --- - --- $ .-- .-. .. - . .-. $ -.... ..--- ..--- -.... $ -. ..- -- -... . .-. $ ---.. .---- ..--- ..... $ -.... ....- -.... --...\n"
     ]
    }
   ],
   "source": [
    "morse_with_tempChar = LA03.file2morse('202002473.wav')\n",
    "print(morse_with_tempChar)"
   ],
   "metadata": {
    "collapsed": false,
    "ExecuteTime": {
     "end_time": "2024-03-21T09:32:07.548897Z",
     "start_time": "2024-03-21T09:32:02.804255Z"
    }
   },
   "id": "98d4f87851a6b68c",
   "execution_count": 2
  },
  {
   "cell_type": "code",
   "outputs": [
    {
     "name": "stdout",
     "output_type": "stream",
     "text": [
      "WRITING 1742 PHOTO WRITER 6226 NUMBER 8125 6467\n"
     ]
    }
   ],
   "source": [
    "solved_text = LA03.morse2text(morse_with_tempChar)\n",
    "print(solved_text)"
   ],
   "metadata": {
    "collapsed": false,
    "ExecuteTime": {
     "end_time": "2024-03-21T09:32:07.552354Z",
     "start_time": "2024-03-21T09:32:07.549818Z"
    }
   },
   "id": "4ab3b4e2f88ef51b",
   "execution_count": 3
  }
 ],
 "metadata": {
  "kernelspec": {
   "display_name": "Python 3",
   "language": "python",
   "name": "python3"
  },
  "language_info": {
   "codemirror_mode": {
    "name": "ipython",
    "version": 2
   },
   "file_extension": ".py",
   "mimetype": "text/x-python",
   "name": "python",
   "nbconvert_exporter": "python",
   "pygments_lexer": "ipython2",
   "version": "2.7.6"
  }
 },
 "nbformat": 4,
 "nbformat_minor": 5
}
